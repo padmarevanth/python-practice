{
 "cells": [
  {
   "cell_type": "code",
   "execution_count": 3,
   "id": "a45026dd",
   "metadata": {},
   "outputs": [
    {
     "name": "stdout",
     "output_type": "stream",
     "text": [
      "15\n",
      "120\n"
     ]
    }
   ],
   "source": [
    "#write a python program to sum of all the items and multiply all the items\n",
    "l=[1,2,3,4,5]\n",
    "a=0\n",
    "a1=1\n",
    "for i in l:\n",
    "    a=a+i\n",
    "print(a)\n",
    "\n",
    "for i in l:\n",
    "    a1=a1*i\n",
    "print(a1)    \n",
    "    \n"
   ]
  },
  {
   "cell_type": "code",
   "execution_count": 10,
   "id": "ae966fa7",
   "metadata": {},
   "outputs": [
    {
     "name": "stdout",
     "output_type": "stream",
     "text": [
      "True\n"
     ]
    }
   ],
   "source": [
    "#write a python program function that takes two lists and returns true if they have at least one common\n",
    "\n",
    "b=[1,2,3]\n",
    "c=[3,4,5]\n",
    "for i in range(len(b)+1):\n",
    "    if i in c:\n",
    "        print(True)\n",
    "      \n"
   ]
  },
  {
   "cell_type": "code",
   "execution_count": 22,
   "id": "9973c53e",
   "metadata": {},
   "outputs": [
    {
     "data": {
      "text/plain": [
       "['red', 'orange', 'blue', 'white']"
      ]
     },
     "execution_count": 22,
     "metadata": {},
     "output_type": "execute_result"
    }
   ],
   "source": [
    "#write a python program to compute the difference between two lists\n",
    "d3=['red','orange','green','blue','white']\n",
    "d4=['black','yellow','green','blue']\n",
    "for i in d3:\n",
    "    if i in d4:\n",
    "        d3.remove(i)\n",
    "d3       \n",
    "        \n",
    "        \n",
    "    "
   ]
  },
  {
   "cell_type": "code",
   "execution_count": 17,
   "id": "26a4cc80",
   "metadata": {},
   "outputs": [
    {
     "data": {
      "text/plain": [
       "['black', 'yellow', 'blue']"
      ]
     },
     "execution_count": 17,
     "metadata": {},
     "output_type": "execute_result"
    }
   ],
   "source": [
    "#write a python program to compute the difference between two lists\n",
    "d3=['red','orange','green','blue','white']\n",
    "d4=['black','yellow','green','blue']\n",
    "\n",
    "for i in d4:\n",
    "    if i in d3:\n",
    "        d4.remove(i)\n",
    "d4      \n",
    "    "
   ]
  },
  {
   "cell_type": "code",
   "execution_count": null,
   "id": "ac63b5e1",
   "metadata": {},
   "outputs": [],
   "source": []
  }
 ],
 "metadata": {
  "kernelspec": {
   "display_name": "Python 3",
   "language": "python",
   "name": "python3"
  },
  "language_info": {
   "codemirror_mode": {
    "name": "ipython",
    "version": 3
   },
   "file_extension": ".py",
   "mimetype": "text/x-python",
   "name": "python",
   "nbconvert_exporter": "python",
   "pygments_lexer": "ipython3",
   "version": "3.8.8"
  }
 },
 "nbformat": 4,
 "nbformat_minor": 5
}
